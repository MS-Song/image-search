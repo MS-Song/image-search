{
 "cells": [
  {
   "attachments": {},
   "cell_type": "markdown",
   "metadata": {},
   "source": [
    "### Open CV 를 이용해서 이미지 유사도를 테스트 하는 소스 테스트\n",
    "#### 잘 동작하지 않는 것 같다 ;;"
   ]
  },
  {
   "cell_type": "code",
   "execution_count": 2,
   "metadata": {},
   "outputs": [],
   "source": [
    "import cv2\n",
    "import numpy as np\n",
    "\n",
    "# 비교하고자 하는 두 이미지 로드\n",
    "img1 = cv2.imread('C:\\workspace\\project\\python-workspace\\images\\issue_2023-03-21_102948_edit.png')\n",
    "img2 = cv2.imread('C:\\workspace\\project\\python-workspace\\images\\Screenshot_20230321_143042_KB.jpg')\n",
    "\n",
    "# 이미지를 그레이스케일로 변환\n",
    "gray1 = cv2.cvtColor(img1, cv2.COLOR_BGR2GRAY)\n",
    "gray2 = cv2.cvtColor(img2, cv2.COLOR_BGR2GRAY)\n",
    "\n",
    "# 이미지의 특징점 검출\n",
    "sift = cv2.SIFT_create()\n",
    "kp1, des1 = sift.detectAndCompute(gray1,None)\n",
    "kp2, des2 = sift.detectAndCompute(gray2,None)\n",
    "\n",
    "# 특징점 매칭 수행\n",
    "bf = cv2.BFMatcher()\n",
    "matches = bf.knnMatch(des1,des2, k=2)\n",
    "\n",
    "# 매칭 결과 정렬\n",
    "good = []\n",
    "for m,n in matches:\n",
    "    if m.distance < 0.5*n.distance:\n",
    "        good.append([m])\n",
    "\n",
    "# 일치하는 이미지 반환\n",
    "if len(good)>10:\n",
    "    src_pts = np.float32([ kp1[m[0].queryIdx].pt for m in good ]).reshape(-1,1,2)\n",
    "    dst_pts = np.float32([ kp2[m[0].trainIdx].pt for m in good ]).reshape(-1,1,2)\n",
    "    M, mask = cv2.findHomography(src_pts, dst_pts, cv2.RANSAC,5.0)\n",
    "    matchesMask = mask.ravel().tolist()\n",
    "    h,w = gray1.shape\n",
    "    pts = np.float32([ [0,0],[0,h-1],[w-1,h-1],[w-1,0] ]).reshape(-1,1,2)\n",
    "    dst = cv2.perspectiveTransform(pts,M)\n",
    "    img2 = cv2.polylines(img2,[np.int32(dst)],True,255,3, cv2.LINE_AA)\n",
    "    cv2.imshow(\"Result\", img2)\n",
    "    cv2.waitKey(0)\n",
    "else:\n",
    "    print(\"Not enough matches are found - {}/{}\".format(len(good),10))"
   ]
  }
 ],
 "metadata": {
  "kernelspec": {
   "display_name": "my-project-env",
   "language": "python",
   "name": "python3"
  },
  "language_info": {
   "codemirror_mode": {
    "name": "ipython",
    "version": 3
   },
   "file_extension": ".py",
   "mimetype": "text/x-python",
   "name": "python",
   "nbconvert_exporter": "python",
   "pygments_lexer": "ipython3",
   "version": "3.10.10"
  },
  "orig_nbformat": 4
 },
 "nbformat": 4,
 "nbformat_minor": 2
}
