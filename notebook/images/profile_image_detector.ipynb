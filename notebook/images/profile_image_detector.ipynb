{
 "cells": [
  {
   "attachments": {},
   "cell_type": "markdown",
   "metadata": {},
   "source": [
    "https://colab.research.google.com/github/daangn/notebooks/blob/master/daangn/profile_image_detector_using_tf_hub.ipynb#scrollTo=CKXcZN1KkysM\n",
    "\n",
    "참고로 tensorflow_hub 를 통해서 유사 이미지를 검색 하는 학습을 하고, 그를 기반으로 유사 이미지를 찾아내는 코딩을 테스트 해본다."
   ]
  },
  {
   "cell_type": "code",
   "execution_count": 1,
   "metadata": {},
   "outputs": [],
   "source": [
    "!pip -q install tensorflow-hub\n",
    "\n",
    "import tensorflow as tf\n",
    "import tensorflow_hub as hub\n",
    "\n",
    "CHANNELS = 3 # number of image channels (RGB)\n",
    "\n",
    "def build_graph(hub_module_url, target_image_path):\n",
    "  # Step 1) Prepare pre-trained model for extracting image features.\n",
    "  module = hub.Module(hub_module_url)\n",
    "  height, width = hub.get_expected_image_size(module)\n",
    "\n",
    "  # Copied a method of https://github.com/GoogleCloudPlatform/cloudml-samples/blob/bf0680726/flowers/trainer/model.py#L181\n",
    "  # and fixed for all type images (not only jpeg)\n",
    "  def decode_and_resize(image_str_tensor):\n",
    "    \"\"\"Decodes jpeg string, resizes it and returns a uint8 tensor.\"\"\"\n",
    "    image = tf.image.decode_image(image_str_tensor, channels=CHANNELS)\n",
    "    # Note resize expects a batch_size, but tf_map supresses that index,\n",
    "    # thus we have to expand then squeeze.  Resize returns float32 in the\n",
    "    # range [0, uint8_max]\n",
    "    image = tf.expand_dims(image, 0)\n",
    "    image = tf.image.resize_bilinear(\n",
    "        image, [height, width], align_corners=False)\n",
    "    image = tf.squeeze(image, squeeze_dims=[0])\n",
    "    image = tf.cast(image, dtype=tf.uint8)\n",
    "    return image\n",
    "\n",
    "  def to_img_feature(images):\n",
    "    \"\"\"Extract the feature of image vectors\"\"\"\n",
    "    outputs = module(dict(images=images), signature=\"image_feature_vector\", as_dict=True)\n",
    "    return outputs['default']\n",
    "\n",
    "  # Step 2) Extract image features of the target image.\n",
    "  target_image_bytes = tf.gfile.GFile(target_image_path, 'rb').read()\n",
    "  target_image = tf.constant(target_image_bytes, dtype=tf.string)\n",
    "  target_image = decode_and_resize(target_image)\n",
    "  target_image = tf.image.convert_image_dtype(target_image, dtype=tf.float32)\n",
    "  target_image = tf.expand_dims(target_image, 0)\n",
    "  target_image = to_img_feature(target_image)\n",
    "\n",
    "  # Step 3) Extract image features of input images.\n",
    "  input_byte = tf.placeholder(tf.string, shape=[None])\n",
    "  input_image = tf.map_fn(decode_and_resize, input_byte, back_prop=False, dtype=tf.uint8)\n",
    "  input_image = tf.image.convert_image_dtype(input_image, dtype=tf.float32)\n",
    "  input_image = to_img_feature(input_image)\n",
    "\n",
    "  # Step 4) Compare cosine_similarities of the target image and the input images.\n",
    "  dot = tf.tensordot(target_image, tf.transpose(input_image), 1)\n",
    "  similarity = dot / (tf.norm(target_image, axis=1) * tf.norm(input_image, axis=1))\n",
    "  similarity = tf.reshape(similarity, [-1])\n",
    "  \n",
    "  return input_byte, similarity"
   ]
  },
  {
   "cell_type": "code",
   "execution_count": 13,
   "metadata": {},
   "outputs": [
    {
     "name": "stdout",
     "output_type": "stream",
     "text": [
      "['issue_2023-03-21_102948_edit.png', 'issue_2023-03-21_103145_edit.png', 'issue_2023-03-21_103429.png', 'issue_2023-03-21_103432_edit.png', 'issue_2023-03-21_103627_edit.png', 'Screenshot_20230321_142950_KB.jpg', 'Screenshot_20230321_142959_KB.jpg', 'Screenshot_20230321_143010_KB.jpg', 'Screenshot_20230321_143021_KB.jpg', 'Screenshot_20230321_143035_KB.jpg', 'Screenshot_20230321_143042_KB.jpg']\n",
      "['c:/workspace/project/python-workspace/images/issue_2023-03-21_102948_edit.png', 'c:/workspace/project/python-workspace/images/issue_2023-03-21_103145_edit.png', 'c:/workspace/project/python-workspace/images/issue_2023-03-21_103429.png', 'c:/workspace/project/python-workspace/images/issue_2023-03-21_103432_edit.png', 'c:/workspace/project/python-workspace/images/issue_2023-03-21_103627_edit.png', 'c:/workspace/project/python-workspace/images/Screenshot_20230321_142950_KB.jpg', 'c:/workspace/project/python-workspace/images/Screenshot_20230321_142959_KB.jpg', 'c:/workspace/project/python-workspace/images/Screenshot_20230321_143010_KB.jpg', 'c:/workspace/project/python-workspace/images/Screenshot_20230321_143021_KB.jpg', 'c:/workspace/project/python-workspace/images/Screenshot_20230321_143035_KB.jpg', 'c:/workspace/project/python-workspace/images/Screenshot_20230321_143042_KB.jpg']\n"
     ]
    }
   ],
   "source": [
    "import os\n",
    "\n",
    "path=\"c:/workspace/project/python-workspace/images\"\n",
    "files = os.listdir(path)\n",
    "print(files)\n",
    "paths = [path + \"/\" + name\n",
    "         for name in files]\n",
    "print(paths)"
   ]
  },
  {
   "cell_type": "code",
   "execution_count": 14,
   "metadata": {},
   "outputs": [
    {
     "ename": "NameError",
     "evalue": "name 'build_graph' is not defined",
     "output_type": "error",
     "traceback": [
      "\u001b[1;31m---------------------------------------------------------------------------\u001b[0m",
      "\u001b[1;31mNameError\u001b[0m                                 Traceback (most recent call last)",
      "Cell \u001b[1;32mIn[14], line 14\u001b[0m\n\u001b[0;32m     11\u001b[0m hub_module_url \u001b[39m=\u001b[39m \u001b[39m\"\u001b[39m\u001b[39mhttps://tfhub.dev/google/imagenet/mobilenet_v2_100_96/feature_vector/1\u001b[39m\u001b[39m\"\u001b[39m \u001b[39m#@param {type:\"string\"}\u001b[39;00m\n\u001b[0;32m     13\u001b[0m \u001b[39mwith\u001b[39;00m tf\u001b[39m.\u001b[39mGraph()\u001b[39m.\u001b[39mas_default():\n\u001b[1;32m---> 14\u001b[0m   input_byte, similarity_op \u001b[39m=\u001b[39m build_graph(hub_module_url, target_img_path)\n\u001b[0;32m     16\u001b[0m   \u001b[39mwith\u001b[39;00m tf\u001b[39m.\u001b[39mSession() \u001b[39mas\u001b[39;00m sess:\n\u001b[0;32m     17\u001b[0m     sess\u001b[39m.\u001b[39mrun(tf\u001b[39m.\u001b[39mglobal_variables_initializer())\n",
      "\u001b[1;31mNameError\u001b[0m: name 'build_graph' is not defined"
     ]
    }
   ],
   "source": [
    "import time\n",
    "import tensorflow as tf\n",
    "from IPython.display import Image, display\n",
    "\n",
    "tf.compat.v1.logging.set_verbosity(tf.compat.v1.logging.ERROR)\n",
    "\n",
    "# Load bytes of image files\n",
    "image_bytes = [tf.io.gfile.GFile(name, 'rb').read()\n",
    "               for name in paths]\n",
    "\n",
    "hub_module_url = \"https://tfhub.dev/google/imagenet/mobilenet_v2_100_96/feature_vector/1\" #@param {type:\"string\"}\n",
    "\n",
    "with tf.Graph().as_default():\n",
    "  input_byte, similarity_op = build_graph(hub_module_url, target_img_path)\n",
    "  \n",
    "  with tf.Session() as sess:\n",
    "    sess.run(tf.global_variables_initializer())\n",
    "    t0 = time.time() # for time check\n",
    "    \n",
    "    # Inference similarities\n",
    "    similarities = sess.run(similarity_op, feed_dict={input_byte: image_bytes})\n",
    "    \n",
    "    print(\"%d images inference time: %.2f s\" % (len(similarities), time.time() - t0))\n",
    "\n",
    "# Display results\n",
    "print(\"# Target image\")\n",
    "display(Image(target_img_path))\n",
    "print(\"- similarity: %.2f\" % similarities[0])\n",
    "\n",
    "print(\"# Input images\")\n",
    "for similarity, input_img_path in zip(similarities[1:], input_img_paths):\n",
    "  display(Image(input_img_path))\n",
    "  print(\"- similarity: %.2f\" % similarity)"
   ]
  }
 ],
 "metadata": {
  "kernelspec": {
   "display_name": "my-project-env",
   "language": "python",
   "name": "python3"
  },
  "language_info": {
   "codemirror_mode": {
    "name": "ipython",
    "version": 3
   },
   "file_extension": ".py",
   "mimetype": "text/x-python",
   "name": "python",
   "nbconvert_exporter": "python",
   "pygments_lexer": "ipython3",
   "version": "3.10.10"
  },
  "orig_nbformat": 4
 },
 "nbformat": 4,
 "nbformat_minor": 2
}
